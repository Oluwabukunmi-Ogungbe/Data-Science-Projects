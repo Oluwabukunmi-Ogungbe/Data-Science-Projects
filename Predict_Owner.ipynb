{
 "cells": [
  {
   "cell_type": "code",
   "execution_count": 27,
   "id": "19f39d92",
   "metadata": {},
   "outputs": [],
   "source": [
    "# install all the neccessary libraries\n",
    "\n",
    "import pandas as pd\n",
    "import numpy as np\n",
    "import matplotlib.pyplot as plt\n",
    "import seaborn as sns\n",
    "from sklearn.preprocessing import OrdinalEncoder \n",
    "from sklearn.model_selection import train_test_split \n",
    "from sklearn.linear_model import LogisticRegression \n",
    "from sklearn.tree import DecisionTreeClassifier \n",
    "from sklearn.metrics import confusion_matrix, f1_score, accuracy_score\n",
    "from sklearn.preprocessing import StandardScaler \n",
    "from imblearn.over_sampling import SMOTE \n",
    "from numpy import set_printoptions\n",
    "from sklearn.preprocessing import MinMaxScaler\n",
    "from sklearn.preprocessing import Normalizer "
   ]
  },
  {
   "cell_type": "code",
   "execution_count": 28,
   "id": "ceda07ad",
   "metadata": {},
   "outputs": [
    {
     "data": {
      "text/html": [
       "<div>\n",
       "<style scoped>\n",
       "    .dataframe tbody tr th:only-of-type {\n",
       "        vertical-align: middle;\n",
       "    }\n",
       "\n",
       "    .dataframe tbody tr th {\n",
       "        vertical-align: top;\n",
       "    }\n",
       "\n",
       "    .dataframe thead th {\n",
       "        text-align: right;\n",
       "    }\n",
       "</style>\n",
       "<table border=\"1\" class=\"dataframe\">\n",
       "  <thead>\n",
       "    <tr style=\"text-align: right;\">\n",
       "      <th></th>\n",
       "      <th>Used it for</th>\n",
       "      <th>Ownership</th>\n",
       "      <th>Model Name</th>\n",
       "      <th>Visual Appeal</th>\n",
       "      <th>Reliability</th>\n",
       "      <th>Extra Features</th>\n",
       "      <th>Comfort</th>\n",
       "      <th>Maintenance cost</th>\n",
       "      <th>Value for Money</th>\n",
       "    </tr>\n",
       "  </thead>\n",
       "  <tbody>\n",
       "    <tr>\n",
       "      <th>0</th>\n",
       "      <td>Commuting</td>\n",
       "      <td>Never owned</td>\n",
       "      <td>TVS iQube</td>\n",
       "      <td>3</td>\n",
       "      <td>4</td>\n",
       "      <td>NaN</td>\n",
       "      <td>4.0</td>\n",
       "      <td>NaN</td>\n",
       "      <td>1.0</td>\n",
       "    </tr>\n",
       "    <tr>\n",
       "      <th>1</th>\n",
       "      <td>Leisure</td>\n",
       "      <td>&gt; 6 months</td>\n",
       "      <td>TVS iQube</td>\n",
       "      <td>3</td>\n",
       "      <td>1</td>\n",
       "      <td>NaN</td>\n",
       "      <td>3.0</td>\n",
       "      <td>NaN</td>\n",
       "      <td>3.0</td>\n",
       "    </tr>\n",
       "    <tr>\n",
       "      <th>2</th>\n",
       "      <td>Commuting</td>\n",
       "      <td>&lt;= 6 months</td>\n",
       "      <td>TVS iQube</td>\n",
       "      <td>4</td>\n",
       "      <td>4</td>\n",
       "      <td>NaN</td>\n",
       "      <td>5.0</td>\n",
       "      <td>NaN</td>\n",
       "      <td>2.0</td>\n",
       "    </tr>\n",
       "    <tr>\n",
       "      <th>3</th>\n",
       "      <td>Commuting</td>\n",
       "      <td>&gt; 6 months</td>\n",
       "      <td>TVS iQube</td>\n",
       "      <td>1</td>\n",
       "      <td>1</td>\n",
       "      <td>NaN</td>\n",
       "      <td>1.0</td>\n",
       "      <td>NaN</td>\n",
       "      <td>1.0</td>\n",
       "    </tr>\n",
       "    <tr>\n",
       "      <th>4</th>\n",
       "      <td>Commuting</td>\n",
       "      <td>&gt; 6 months</td>\n",
       "      <td>TVS iQube</td>\n",
       "      <td>3</td>\n",
       "      <td>4</td>\n",
       "      <td>NaN</td>\n",
       "      <td>3.0</td>\n",
       "      <td>NaN</td>\n",
       "      <td>2.0</td>\n",
       "    </tr>\n",
       "    <tr>\n",
       "      <th>...</th>\n",
       "      <td>...</td>\n",
       "      <td>...</td>\n",
       "      <td>...</td>\n",
       "      <td>...</td>\n",
       "      <td>...</td>\n",
       "      <td>...</td>\n",
       "      <td>...</td>\n",
       "      <td>...</td>\n",
       "      <td>...</td>\n",
       "    </tr>\n",
       "    <tr>\n",
       "      <th>708</th>\n",
       "      <td>Commuting</td>\n",
       "      <td>&gt; 6 months</td>\n",
       "      <td>Gemopai Ryder</td>\n",
       "      <td>2</td>\n",
       "      <td>2</td>\n",
       "      <td>NaN</td>\n",
       "      <td>2.0</td>\n",
       "      <td>NaN</td>\n",
       "      <td>3.0</td>\n",
       "    </tr>\n",
       "    <tr>\n",
       "      <th>709</th>\n",
       "      <td>Leisure</td>\n",
       "      <td>&lt;= 6 months</td>\n",
       "      <td>Gemopai Ryder</td>\n",
       "      <td>5</td>\n",
       "      <td>5</td>\n",
       "      <td>5.0</td>\n",
       "      <td>NaN</td>\n",
       "      <td>5.0</td>\n",
       "      <td>NaN</td>\n",
       "    </tr>\n",
       "    <tr>\n",
       "      <th>710</th>\n",
       "      <td>Commuting</td>\n",
       "      <td>&gt; 6 months</td>\n",
       "      <td>Gemopai Ryder</td>\n",
       "      <td>2</td>\n",
       "      <td>2</td>\n",
       "      <td>3.0</td>\n",
       "      <td>NaN</td>\n",
       "      <td>1.0</td>\n",
       "      <td>NaN</td>\n",
       "    </tr>\n",
       "    <tr>\n",
       "      <th>711</th>\n",
       "      <td>Commuting</td>\n",
       "      <td>&lt;= 6 months</td>\n",
       "      <td>Gemopai Ryder</td>\n",
       "      <td>4</td>\n",
       "      <td>4</td>\n",
       "      <td>NaN</td>\n",
       "      <td>4.0</td>\n",
       "      <td>NaN</td>\n",
       "      <td>5.0</td>\n",
       "    </tr>\n",
       "    <tr>\n",
       "      <th>712</th>\n",
       "      <td>Commuting</td>\n",
       "      <td>&lt;= 6 months</td>\n",
       "      <td>Gemopai Ryder</td>\n",
       "      <td>3</td>\n",
       "      <td>4</td>\n",
       "      <td>NaN</td>\n",
       "      <td>4.0</td>\n",
       "      <td>NaN</td>\n",
       "      <td>4.0</td>\n",
       "    </tr>\n",
       "  </tbody>\n",
       "</table>\n",
       "<p>713 rows × 9 columns</p>\n",
       "</div>"
      ],
      "text/plain": [
       "    Used it for    Ownership     Model Name  Visual Appeal  Reliability  \\\n",
       "0     Commuting  Never owned      TVS iQube              3            4   \n",
       "1       Leisure   > 6 months      TVS iQube              3            1   \n",
       "2     Commuting  <= 6 months      TVS iQube              4            4   \n",
       "3     Commuting   > 6 months      TVS iQube              1            1   \n",
       "4     Commuting   > 6 months      TVS iQube              3            4   \n",
       "..          ...          ...            ...            ...          ...   \n",
       "708   Commuting   > 6 months  Gemopai Ryder              2            2   \n",
       "709     Leisure  <= 6 months  Gemopai Ryder              5            5   \n",
       "710   Commuting   > 6 months  Gemopai Ryder              2            2   \n",
       "711   Commuting  <= 6 months  Gemopai Ryder              4            4   \n",
       "712   Commuting  <= 6 months  Gemopai Ryder              3            4   \n",
       "\n",
       "     Extra Features  Comfort  Maintenance cost  Value for Money  \n",
       "0               NaN      4.0               NaN              1.0  \n",
       "1               NaN      3.0               NaN              3.0  \n",
       "2               NaN      5.0               NaN              2.0  \n",
       "3               NaN      1.0               NaN              1.0  \n",
       "4               NaN      3.0               NaN              2.0  \n",
       "..              ...      ...               ...              ...  \n",
       "708             NaN      2.0               NaN              3.0  \n",
       "709             5.0      NaN               5.0              NaN  \n",
       "710             3.0      NaN               1.0              NaN  \n",
       "711             NaN      4.0               NaN              5.0  \n",
       "712             NaN      4.0               NaN              4.0  \n",
       "\n",
       "[713 rows x 9 columns]"
      ]
     },
     "execution_count": 28,
     "metadata": {},
     "output_type": "execute_result"
    }
   ],
   "source": [
    "file_path = 'C:\\\\allAccountsSending\\\\github projects\\\\predict_owned.csv'\n",
    "data = pd.read_csv(file_path)\n",
    "data"
   ]
  },
  {
   "cell_type": "code",
   "execution_count": 29,
   "id": "0b04e87a",
   "metadata": {},
   "outputs": [
    {
     "name": "stdout",
     "output_type": "stream",
     "text": [
      "<class 'pandas.core.frame.DataFrame'>\n",
      "RangeIndex: 713 entries, 0 to 712\n",
      "Data columns (total 9 columns):\n",
      " #   Column            Non-Null Count  Dtype  \n",
      "---  ------            --------------  -----  \n",
      " 0   Used it for       713 non-null    object \n",
      " 1   Ownership         713 non-null    object \n",
      " 2   Model Name        713 non-null    object \n",
      " 3   Visual Appeal     713 non-null    int64  \n",
      " 4   Reliability       713 non-null    int64  \n",
      " 5   Extra Features    183 non-null    float64\n",
      " 6   Comfort           510 non-null    float64\n",
      " 7   Maintenance cost  176 non-null    float64\n",
      " 8   Value for Money   370 non-null    float64\n",
      "dtypes: float64(4), int64(2), object(3)\n",
      "memory usage: 50.3+ KB\n"
     ]
    }
   ],
   "source": [
    "# check the information of the data to know how pure it is\n",
    "data.info()"
   ]
  },
  {
   "cell_type": "code",
   "execution_count": 30,
   "id": "e2e7c984",
   "metadata": {},
   "outputs": [
    {
     "data": {
      "text/plain": [
       "Used it for          2\n",
       "Ownership            3\n",
       "Model Name          38\n",
       "Visual Appeal        5\n",
       "Reliability          5\n",
       "Extra Features       5\n",
       "Comfort              5\n",
       "Maintenance cost     5\n",
       "Value for Money      5\n",
       "dtype: int64"
      ]
     },
     "execution_count": 30,
     "metadata": {},
     "output_type": "execute_result"
    }
   ],
   "source": [
    "# check the number of unique values in each feature\n",
    "data.nunique()"
   ]
  },
  {
   "cell_type": "code",
   "execution_count": 31,
   "id": "bfe46003",
   "metadata": {},
   "outputs": [
    {
     "data": {
      "text/plain": [
       "{'<= 6 months', '> 6 months', 'Never owned'}"
      ]
     },
     "execution_count": 31,
     "metadata": {},
     "output_type": "execute_result"
    }
   ],
   "source": [
    "#check the value types for the Classs feature\n",
    "set(data['Ownership'])"
   ]
  },
  {
   "cell_type": "code",
   "execution_count": 32,
   "id": "fb3783a7",
   "metadata": {},
   "outputs": [
    {
     "data": {
      "text/plain": [
       "Used it for           0\n",
       "Ownership             0\n",
       "Model Name            0\n",
       "Visual Appeal         0\n",
       "Reliability           0\n",
       "Extra Features      530\n",
       "Comfort             203\n",
       "Maintenance cost    537\n",
       "Value for Money     343\n",
       "dtype: int64"
      ]
     },
     "execution_count": 32,
     "metadata": {},
     "output_type": "execute_result"
    }
   ],
   "source": [
    "# check for missing values in the features\n",
    "data.isnull().sum()\n"
   ]
  },
  {
   "cell_type": "code",
   "execution_count": 33,
   "id": "ab188f5e",
   "metadata": {},
   "outputs": [],
   "source": [
    "# replace all missng values with 0\n",
    "data = data.fillna(0)\n"
   ]
  },
  {
   "cell_type": "code",
   "execution_count": 34,
   "id": "aa9c8c60",
   "metadata": {},
   "outputs": [
    {
     "data": {
      "text/html": [
       "<div>\n",
       "<style scoped>\n",
       "    .dataframe tbody tr th:only-of-type {\n",
       "        vertical-align: middle;\n",
       "    }\n",
       "\n",
       "    .dataframe tbody tr th {\n",
       "        vertical-align: top;\n",
       "    }\n",
       "\n",
       "    .dataframe thead th {\n",
       "        text-align: right;\n",
       "    }\n",
       "</style>\n",
       "<table border=\"1\" class=\"dataframe\">\n",
       "  <thead>\n",
       "    <tr style=\"text-align: right;\">\n",
       "      <th></th>\n",
       "      <th>Visual Appeal</th>\n",
       "      <th>Reliability</th>\n",
       "      <th>Extra Features</th>\n",
       "      <th>Comfort</th>\n",
       "      <th>Maintenance cost</th>\n",
       "      <th>Value for Money</th>\n",
       "    </tr>\n",
       "  </thead>\n",
       "  <tbody>\n",
       "    <tr>\n",
       "      <th>count</th>\n",
       "      <td>713.000000</td>\n",
       "      <td>713.000000</td>\n",
       "      <td>713.000000</td>\n",
       "      <td>713.000000</td>\n",
       "      <td>713.000000</td>\n",
       "      <td>713.000000</td>\n",
       "    </tr>\n",
       "    <tr>\n",
       "      <th>mean</th>\n",
       "      <td>3.768583</td>\n",
       "      <td>3.314165</td>\n",
       "      <td>0.751753</td>\n",
       "      <td>2.611501</td>\n",
       "      <td>0.837307</td>\n",
       "      <td>1.748948</td>\n",
       "    </tr>\n",
       "    <tr>\n",
       "      <th>std</th>\n",
       "      <td>1.359949</td>\n",
       "      <td>1.584523</td>\n",
       "      <td>1.524639</td>\n",
       "      <td>2.031834</td>\n",
       "      <td>1.617638</td>\n",
       "      <td>2.011924</td>\n",
       "    </tr>\n",
       "    <tr>\n",
       "      <th>min</th>\n",
       "      <td>1.000000</td>\n",
       "      <td>1.000000</td>\n",
       "      <td>0.000000</td>\n",
       "      <td>0.000000</td>\n",
       "      <td>0.000000</td>\n",
       "      <td>0.000000</td>\n",
       "    </tr>\n",
       "    <tr>\n",
       "      <th>25%</th>\n",
       "      <td>3.000000</td>\n",
       "      <td>2.000000</td>\n",
       "      <td>0.000000</td>\n",
       "      <td>0.000000</td>\n",
       "      <td>0.000000</td>\n",
       "      <td>0.000000</td>\n",
       "    </tr>\n",
       "    <tr>\n",
       "      <th>50%</th>\n",
       "      <td>4.000000</td>\n",
       "      <td>4.000000</td>\n",
       "      <td>0.000000</td>\n",
       "      <td>3.000000</td>\n",
       "      <td>0.000000</td>\n",
       "      <td>1.000000</td>\n",
       "    </tr>\n",
       "    <tr>\n",
       "      <th>75%</th>\n",
       "      <td>5.000000</td>\n",
       "      <td>5.000000</td>\n",
       "      <td>1.000000</td>\n",
       "      <td>5.000000</td>\n",
       "      <td>0.000000</td>\n",
       "      <td>4.000000</td>\n",
       "    </tr>\n",
       "    <tr>\n",
       "      <th>max</th>\n",
       "      <td>5.000000</td>\n",
       "      <td>5.000000</td>\n",
       "      <td>5.000000</td>\n",
       "      <td>5.000000</td>\n",
       "      <td>5.000000</td>\n",
       "      <td>5.000000</td>\n",
       "    </tr>\n",
       "  </tbody>\n",
       "</table>\n",
       "</div>"
      ],
      "text/plain": [
       "       Visual Appeal  Reliability  Extra Features     Comfort  \\\n",
       "count     713.000000   713.000000      713.000000  713.000000   \n",
       "mean        3.768583     3.314165        0.751753    2.611501   \n",
       "std         1.359949     1.584523        1.524639    2.031834   \n",
       "min         1.000000     1.000000        0.000000    0.000000   \n",
       "25%         3.000000     2.000000        0.000000    0.000000   \n",
       "50%         4.000000     4.000000        0.000000    3.000000   \n",
       "75%         5.000000     5.000000        1.000000    5.000000   \n",
       "max         5.000000     5.000000        5.000000    5.000000   \n",
       "\n",
       "       Maintenance cost  Value for Money  \n",
       "count        713.000000       713.000000  \n",
       "mean           0.837307         1.748948  \n",
       "std            1.617638         2.011924  \n",
       "min            0.000000         0.000000  \n",
       "25%            0.000000         0.000000  \n",
       "50%            0.000000         1.000000  \n",
       "75%            0.000000         4.000000  \n",
       "max            5.000000         5.000000  "
      ]
     },
     "execution_count": 34,
     "metadata": {},
     "output_type": "execute_result"
    }
   ],
   "source": [
    "# check the statistcal information about the dataset\n",
    "data.describe()"
   ]
  },
  {
   "cell_type": "code",
   "execution_count": 35,
   "id": "35ce4498",
   "metadata": {},
   "outputs": [
    {
     "data": {
      "text/plain": [
       "> 6 months     290\n",
       "<= 6 months    288\n",
       "Never owned    135\n",
       "Name: Ownership, dtype: int64"
      ]
     },
     "execution_count": 35,
     "metadata": {},
     "output_type": "execute_result"
    }
   ],
   "source": [
    "# check the count of each value in the Owned for feature\n",
    "data['Ownership'].value_counts()"
   ]
  },
  {
   "cell_type": "code",
   "execution_count": 36,
   "id": "13feb0e2",
   "metadata": {},
   "outputs": [],
   "source": [
    "data['Ownership'] = data['Ownership'].replace({'<= 6 months':'Owned','> 6 month':'Owned'})\n"
   ]
  },
  {
   "cell_type": "code",
   "execution_count": 37,
   "id": "8870c57b",
   "metadata": {},
   "outputs": [
    {
     "data": {
      "image/png": "[encoded data removed]",
      "text/plain": [
       "<Figure size 864x360 with 2 Axes>"
      ]
     },
     "metadata": {
      "needs_background": "light"
     },
     "output_type": "display_data"
    }
   ],
   "source": [
    "# compute the correlation coefficient of the features and visualze it\n",
    "plt.figure(figsize=(12,5))\n",
    "correllation = data.corr()\n",
    "cover =  np.triu(correllation)\n",
    "sns.heatmap(correllation, annot = True, linewidths = 3, mask = cover, cmap = 'Spectral', square= True)\n",
    "plt.show()\n"
   ]
  },
  {
   "cell_type": "code",
   "execution_count": 38,
   "id": "fa6e992f",
   "metadata": {},
   "outputs": [
    {
     "data": {
      "text/plain": [
       "Text(0.5, 1.0, 'Percentage of ownership')"
      ]
     },
     "execution_count": 38,
     "metadata": {},
     "output_type": "execute_result"
    },
    {
     "data": {
      "image/png": "[encoded data removed]",
      "text/plain": [
       "<Figure size 432x360 with 1 Axes>"
      ]
     },
     "metadata": {},
     "output_type": "display_data"
    }
   ],
   "source": [
    "# compute percentage of ownership\n",
    "\n",
    "data['Ownership'].value_counts().plot.pie(explode = [0.03, 0.03, 0.03], autopct = '%1.1f%%', shadow=True, figsize=(6,5))\n",
    "plt.title('Percentage of ownership')"
   ]
  },
  {
   "cell_type": "code",
   "execution_count": 39,
   "id": "8b1f94b2",
   "metadata": {},
   "outputs": [
    {
     "data": {
      "image/png": "[encoded data removed]",
      "text/plain": [
       "<Figure size 936x504 with 2 Axes>"
      ]
     },
     "metadata": {
      "needs_background": "light"
     },
     "output_type": "display_data"
    }
   ],
   "source": [
    "# creating two bar charts for the visual appeal and reliability ratings\n",
    "fig, axes = plt.subplots(1,2, figsize=(13,7))\n",
    "\n",
    "ax1 = sns.countplot(x='Visual Appeal', data = data, ax = axes[0])\n",
    "ax1.set(xlabel = 'Visual Appoeal', ylabel= 'Ratings', title = 'Visual Appeal Ratings')\n",
    "\n",
    "ax1 = sns.countplot(x='Reliability', data = data, ax = axes[1])\n",
    "ax1.set(xlabel = 'Reliability', ylabel= 'Ratings', title = 'Reliability Ratings')\n",
    "\n",
    "plt.show()"
   ]
  },
  {
   "cell_type": "code",
   "execution_count": 40,
   "id": "df119e77",
   "metadata": {},
   "outputs": [],
   "source": [
    "def owned(x):\n",
    "    if x == 'Never owned':\n",
    "        return (1)\n",
    "    return (0)\n",
    "data['Ownership'] = data['Ownership'].apply(owned)\n"
   ]
  },
  {
   "cell_type": "code",
   "execution_count": 55,
   "id": "5a1f9128",
   "metadata": {},
   "outputs": [
    {
     "data": {
      "text/plain": [
       "0    578\n",
       "1    135\n",
       "Name: Ownership, dtype: int64"
      ]
     },
     "execution_count": 55,
     "metadata": {},
     "output_type": "execute_result"
    }
   ],
   "source": [
    "# encode categorical variables to numeric using the ordinal encoder\n",
    "feature = ['Used it for' , 'Model Name']\n",
    "encode = OrdinalEncoder()\n",
    "data[feature] = encode.fit_transform(data[feature])\n",
    "\n",
    "data\n",
    "data['Ownership'].value_counts()"
   ]
  },
  {
   "cell_type": "code",
   "execution_count": 42,
   "id": "e29f921d",
   "metadata": {},
   "outputs": [
    {
     "data": {
      "text/plain": [
       "array([[0.        , 0.98010223, 0.09188458, ..., 0.12251278, 0.        ,\n",
       "        0.03062819],\n",
       "       [0.03081668, 0.98613368, 0.09245003, ..., 0.09245003, 0.        ,\n",
       "        0.09245003],\n",
       "       [0.        , 0.97148279, 0.12143535, ..., 0.15179419, 0.        ,\n",
       "        0.06071767],\n",
       "       ...,\n",
       "       [0.        , 0.93300782, 0.16963779, ..., 0.        , 0.08481889,\n",
       "        0.        ],\n",
       "       [0.        , 0.78975397, 0.28718326, ..., 0.28718326, 0.        ,\n",
       "        0.35897908],\n",
       "       [0.        , 0.82448486, 0.22485951, ..., 0.29981268, 0.        ,\n",
       "        0.29981268]])"
      ]
     },
     "execution_count": 42,
     "metadata": {},
     "output_type": "execute_result"
    }
   ],
   "source": [
    "# split the data into the train and test sets and normalize the train set before training\n",
    "normal_data = data.drop('Ownership', axis = 1)\n",
    "target_variable = data['Ownership']\n",
    "normal_data_array = normal_data.values\n",
    "normalized_data = Normalizer().fit(normal_data_array).transform(normal_data_array)\n",
    "normalized_data\n"
   ]
  },
  {
   "cell_type": "code",
   "execution_count": null,
   "id": "909a2f5a",
   "metadata": {},
   "outputs": [],
   "source": []
  },
  {
   "cell_type": "code",
   "execution_count": null,
   "id": "c0317e65",
   "metadata": {},
   "outputs": [],
   "source": []
  },
  {
   "cell_type": "code",
   "execution_count": 43,
   "id": "c2fb2af5",
   "metadata": {},
   "outputs": [
    {
     "name": "stdout",
     "output_type": "stream",
     "text": [
      "X_train shape (499, 8)\n",
      "X_test shape (214, 8)\n",
      "y_train shape (499,)\n",
      "y_test shape (214,)\n"
     ]
    }
   ],
   "source": [
    "X = normalized_data\n",
    "y = target_variable\n",
    "\n",
    "X_train, X_test, y_train, y_test = train_test_split(X,y, test_size = 0.3, random_state = 42)\n",
    "\n",
    "print(\"X_train shape\", X_train.shape)\n",
    "print(\"X_test shape\", X_test.shape)\n",
    "print(\"y_train shape\", y_train.shape)\n",
    "print(\"y_test shape\", y_test.shape)"
   ]
  },
  {
   "cell_type": "code",
   "execution_count": 44,
   "id": "bee9d6fe",
   "metadata": {},
   "outputs": [
    {
     "name": "stdout",
     "output_type": "stream",
     "text": [
      "X_train shape (812, 8)\n",
      "X_test shape (344, 8)\n",
      "y_train shape (812,)\n",
      "y_test shape (344,)\n"
     ]
    }
   ],
   "source": [
    "X_train, y_train = SMOTE().fit_resample(X_train, y_train)\n",
    "X_test, y_test = SMOTE().fit_resample(X_test, y_test)\n",
    "print(\"X_train shape\", X_train.shape)\n",
    "print(\"X_test shape\", X_test.shape)\n",
    "print(\"y_train shape\", y_train.shape)\n",
    "print(\"y_test shape\", y_test.shape)"
   ]
  },
  {
   "cell_type": "code",
   "execution_count": 51,
   "id": "7ab3aebb",
   "metadata": {},
   "outputs": [],
   "source": [
    "clf = LogisticRegression()\n",
    "\n",
    "clf.fit(X_train, y_train)\n",
    "\n",
    "y_pred = clf.predict(X_test)\n",
    "\n",
    "clf_2 = DecisionTreeClassifier()\n",
    "\n",
    "clf_2.fit(X_train, y_train)\n",
    "\n",
    "y_pred_2 = clf_2.predict(X_test)\n",
    "\n",
    "\n"
   ]
  },
  {
   "cell_type": "code",
   "execution_count": 52,
   "id": "1dfcbc45",
   "metadata": {},
   "outputs": [
    {
     "name": "stdout",
     "output_type": "stream",
     "text": [
      "Confusion matrix[[ 94  78]\n",
      " [ 50 122]]\n",
      "F1 score : 0.6559139784946236\n",
      "accuracy: 0.627906976744186\n"
     ]
    }
   ],
   "source": [
    "print(f'Confusion matrix{confusion_matrix(y_test, y_pred)}')\n",
    "print(f'F1 score : {f1_score(y_test, y_pred)}')\n",
    "print(f'accuracy: {accuracy_score(y_test, y_pred)}')"
   ]
  },
  {
   "cell_type": "code",
   "execution_count": 53,
   "id": "bde7e061",
   "metadata": {},
   "outputs": [
    {
     "name": "stdout",
     "output_type": "stream",
     "text": [
      "Confusion matrix[[141  31]\n",
      " [ 85  87]]\n",
      "F1 score : 0.6\n",
      "accuracy: 0.6627906976744186\n"
     ]
    }
   ],
   "source": [
    "print(f'Confusion matrix{confusion_matrix(y_test, y_pred_2)}')\n",
    "print(f'F1 score : {f1_score(y_test, y_pred_2)}')\n",
    "print(f'accuracy: {accuracy_score(y_test, y_pred_2)}')"
   ]
  },
  {
   "cell_type": "code",
   "execution_count": 56,
   "id": "0ab7c8b7",
   "metadata": {},
   "outputs": [
    {
     "data": {
      "text/plain": [
       "<AxesSubplot:>"
      ]
     },
     "execution_count": 56,
     "metadata": {},
     "output_type": "execute_result"
    },
    {
     "data": {
      "image/png": "[encoded data removed]",
      "text/plain": [
       "<Figure size 432x288 with 1 Axes>"
      ]
     },
     "metadata": {
      "needs_background": "light"
     },
     "output_type": "display_data"
    }
   ],
   "source": [
    "model_scores = {'Logisstic Regression': f1_score(y_test, y_pred), 'Decision Tree':f1_score(y_test, y_pred_2) }\n",
    "\n",
    "model_compare = pd.DataFrame(model_scores, index=['F1 Score'])\n",
    "model_compare.T.plot(kind='bar')"
   ]
  },
  {
   "cell_type": "code",
   "execution_count": null,
   "id": "ef279669",
   "metadata": {},
   "outputs": [],
   "source": []
  }
 ],
 "metadata": {
  "kernelspec": {
   "display_name": "Python 3 (ipykernel)",
   "language": "python",
   "name": "python3"
  },
  "language_info": {
   "codemirror_mode": {
    "name": "ipython",
    "version": 3
   },
   "file_extension": ".py",
   "mimetype": "text/x-python",
   "name": "python",
   "nbconvert_exporter": "python",
   "pygments_lexer": "ipython3",
   "version": "3.9.12"
  }
 },
 "nbformat": 4,
 "nbformat_minor": 5
}
